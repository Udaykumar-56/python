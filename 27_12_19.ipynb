{
  "nbformat": 4,
  "nbformat_minor": 0,
  "metadata": {
    "colab": {
      "name": "27/12/19.ipynb",
      "provenance": [],
      "collapsed_sections": [],
      "include_colab_link": true
    },
    "kernelspec": {
      "name": "python3",
      "display_name": "Python 3"
    }
  },
  "cells": [
    {
      "cell_type": "markdown",
      "metadata": {
        "id": "view-in-github",
        "colab_type": "text"
      },
      "source": [
        "<a href=\"https://colab.research.google.com/github/Udaykumar-56/python/blob/master/27_12_19.ipynb\" target=\"_parent\"><img src=\"https://colab.research.google.com/assets/colab-badge.svg\" alt=\"Open In Colab\"/></a>"
      ]
    },
    {
      "cell_type": "code",
      "metadata": {
        "id": "t0zcmX3QjlJr",
        "colab_type": "code",
        "colab": {
          "base_uri": "https://localhost:8080/",
          "height": 34
        },
        "outputId": "e08dd192-ca79-4a9d-ed96-eb26617e71d0"
      },
      "source": [
        "li =[\"gitam\",123,124,1323,1232,3451]\n",
        "print(li)\n"
      ],
      "execution_count": 1,
      "outputs": [
        {
          "output_type": "stream",
          "text": [
            "['gitam', 123, 124, 1323, 1232, 3451]\n"
          ],
          "name": "stdout"
        }
      ]
    },
    {
      "cell_type": "code",
      "metadata": {
        "id": "-8FjgedfkT1V",
        "colab_type": "code",
        "colab": {
          "base_uri": "https://localhost:8080/",
          "height": 34
        },
        "outputId": "ce5738c9-fc30-4457-8454-6c56978f6f80"
      },
      "source": [
        "# update\n",
        "li[0]=\"uday\"\n",
        "print(li)"
      ],
      "execution_count": 2,
      "outputs": [
        {
          "output_type": "stream",
          "text": [
            "['uday', 123, 124, 1323, 1232, 3451]\n"
          ],
          "name": "stdout"
        }
      ]
    },
    {
      "cell_type": "code",
      "metadata": {
        "id": "iFL3MIJ7kf2B",
        "colab_type": "code",
        "colab": {
          "base_uri": "https://localhost:8080/",
          "height": 34
        },
        "outputId": "4d09072a-36fa-42a2-c5a2-588de0a9c376"
      },
      "source": [
        "# delete\n",
        "del li[3]\n",
        "print(li)\n"
      ],
      "execution_count": 3,
      "outputs": [
        {
          "output_type": "stream",
          "text": [
            "['uday', 123, 124, 1232, 3451]\n"
          ],
          "name": "stdout"
        }
      ]
    },
    {
      "cell_type": "code",
      "metadata": {
        "id": "4UM7UO8Ok37s",
        "colab_type": "code",
        "colab": {
          "base_uri": "https://localhost:8080/",
          "height": 85
        },
        "outputId": "d4bc3a9b-190d-438d-d6a2-6f751912d44d"
      },
      "source": [
        "li=[12,23,3,344,55]\n",
        "print(len(li))\n",
        "print(li*2)\n",
        "print(55 in li)\n",
        "print(4 in li)\n"
      ],
      "execution_count": 5,
      "outputs": [
        {
          "output_type": "stream",
          "text": [
            "5\n",
            "[12, 23, 3, 344, 55, 12, 23, 3, 344, 55]\n",
            "True\n",
            "False\n"
          ],
          "name": "stdout"
        }
      ]
    },
    {
      "cell_type": "code",
      "metadata": {
        "id": "QI1tvJ5XsfBu",
        "colab_type": "code",
        "colab": {}
      },
      "source": [
        "li =[\"gitam\",123,124,1323,3456,]"
      ],
      "execution_count": 0,
      "outputs": []
    },
    {
      "cell_type": "markdown",
      "metadata": {
        "id": "VvlN9X3ll_NG",
        "colab_type": "text"
      },
      "source": [
        "**BASIC LIST FUNCTIONS**"
      ]
    },
    {
      "cell_type": "code",
      "metadata": {
        "id": "BnExOC_BmMqh",
        "colab_type": "code",
        "colab": {
          "base_uri": "https://localhost:8080/",
          "height": 85
        },
        "outputId": "155f5c47-9589-486a-ebd1-bf853aa9966c"
      },
      "source": [
        "li = [1,2,3,4,5,6]\n",
        "print(max(li))\n",
        "print(min(li))\n",
        "print(sum(li))\n",
        "print(sum(li)/len(li))"
      ],
      "execution_count": 6,
      "outputs": [
        {
          "output_type": "stream",
          "text": [
            "6\n",
            "1\n",
            "21\n",
            "3.5\n"
          ],
          "name": "stdout"
        }
      ]
    },
    {
      "cell_type": "code",
      "metadata": {
        "id": "kM4XRFMYmzCu",
        "colab_type": "code",
        "colab": {
          "base_uri": "https://localhost:8080/",
          "height": 51
        },
        "outputId": "bfa409c6-23e3-4b31-c33e-3b4d25a45e26"
      },
      "source": [
        "li = [1,2,3,4,5,6]\n",
        "li.append(29)#\n",
        "print(li)\n",
        "li.insert(2,45)\n",
        "print(li)\n"
      ],
      "execution_count": 7,
      "outputs": [
        {
          "output_type": "stream",
          "text": [
            "[1, 2, 3, 4, 5, 6, 29]\n",
            "[1, 2, 45, 3, 4, 5, 6, 29]\n"
          ],
          "name": "stdout"
        }
      ]
    },
    {
      "cell_type": "code",
      "metadata": {
        "id": "IEbOjF8anDtn",
        "colab_type": "code",
        "colab": {
          "base_uri": "https://localhost:8080/",
          "height": 68
        },
        "outputId": "e30a2b41-a427-4ba8-be8d-c307d10b78b4"
      },
      "source": [
        "li =[1,2,3,4,5,6,29]\n",
        "li.sort()\n",
        "print(li)\n",
        "li.pop()\n",
        "print(li)\n",
        "li.pop(1)\n",
        "print(li)"
      ],
      "execution_count": 8,
      "outputs": [
        {
          "output_type": "stream",
          "text": [
            "[1, 2, 3, 4, 5, 6, 29]\n",
            "[1, 2, 3, 4, 5, 6]\n",
            "[1, 3, 4, 5, 6]\n"
          ],
          "name": "stdout"
        }
      ]
    },
    {
      "cell_type": "code",
      "metadata": {
        "id": "Hge8FFCmnbZJ",
        "colab_type": "code",
        "colab": {
          "base_uri": "https://localhost:8080/",
          "height": 51
        },
        "outputId": "df262192-2971-4fe7-a337-36e618e14519"
      },
      "source": [
        "# function to return large number from list\n",
        "\n",
        "def largenumber(li):\n",
        "  li.sort()\n",
        "  return li[-1]\n",
        "def genericlarge(li,n):\n",
        "  li.sort()\n",
        "  return li[-n]\n",
        "li=[19,1,3,87,32,21,36]\n",
        "print(largenumber(li))\n",
        "print(genericlarge(li,3))\n",
        "\n",
        "  "
      ],
      "execution_count": 21,
      "outputs": [
        {
          "output_type": "stream",
          "text": [
            "87\n",
            "32\n"
          ],
          "name": "stdout"
        }
      ]
    },
    {
      "cell_type": "code",
      "metadata": {
        "id": "5xlKbabiyAor",
        "colab_type": "code",
        "colab": {
          "base_uri": "https://localhost:8080/",
          "height": 51
        },
        "outputId": "88cb0da6-1177-4461-d477-64745a2f9a40"
      },
      "source": [
        "# function to return small number from list\n",
        "\n",
        "def smallnumber(li):\n",
        "  li.sort()\n",
        "  return li[0]\n",
        "def genericsmall(n):\n",
        "  li.sort()\n",
        "  return li[n-1]\n",
        "li=[19,1,3,87,32,21,36]\n",
        "print(smallnumber(li))\n",
        "print(genericsmall(3))\n",
        "\n",
        "  "
      ],
      "execution_count": 22,
      "outputs": [
        {
          "output_type": "stream",
          "text": [
            "1\n",
            "19\n"
          ],
          "name": "stdout"
        }
      ]
    },
    {
      "cell_type": "markdown",
      "metadata": {
        "id": "IUVxguq7otrn",
        "colab_type": "text"
      },
      "source": [
        "# **Tuples**\n",
        "\n",
        "\n",
        "*   values separated by comma and enclosed by parenthesis()\n",
        "*   values cannot be changed i.e immutable\n",
        "\n",
        "# Difference b/w list and tuple\n",
        "\n",
        "\n",
        "*  list can be modified\n",
        "*  list used to access means modify,add,delete,update\n",
        "\n",
        "\n",
        "*   tuple cannot be modified\n",
        "*   used to access data only\n",
        "\n",
        "\n",
        "\n",
        "\n",
        "\n"
      ]
    },
    {
      "cell_type": "code",
      "metadata": {
        "id": "vgVVsqixqjKt",
        "colab_type": "code",
        "colab": {
          "base_uri": "https://localhost:8080/",
          "height": 51
        },
        "outputId": "449bba4e-bb72-4f0a-f03d-5b37e4b6cd97"
      },
      "source": [
        "t1=(1,2,3,4,5)\n",
        "print(t1)\n",
        "print(type(t1))"
      ],
      "execution_count": 9,
      "outputs": [
        {
          "output_type": "stream",
          "text": [
            "(1, 2, 3, 4, 5)\n",
            "<class 'tuple'>\n"
          ],
          "name": "stdout"
        }
      ]
    },
    {
      "cell_type": "markdown",
      "metadata": {
        "id": "M8agebkEtNar",
        "colab_type": "text"
      },
      "source": [
        "**# dictionaries:**\n",
        " - works on concept of set unique data\n",
        " - dictionary contains keys and values\n",
        " - each key is separated from its values with colon ':'\n",
        " - each key and values separated by commma,\n",
        " - dictionary enclosed by {}"
      ]
    },
    {
      "cell_type": "code",
      "metadata": {
        "id": "JOC71Nuxt8W-",
        "colab_type": "code",
        "colab": {
          "base_uri": "https://localhost:8080/",
          "height": 34
        },
        "outputId": "a352b502-68d8-46e0-e44e-768cba5d62ff"
      },
      "source": [
        "d1 = { \"name\":\"Gitam\",\"email\":\"gitam@gmail.com\",\"address\":\"hyderabad\"}\n",
        "print (d1)"
      ],
      "execution_count": 14,
      "outputs": [
        {
          "output_type": "stream",
          "text": [
            "{'name': 'Gitam', 'email': 'gitam@gmail.com', 'address': 'hyderabad'}\n"
          ],
          "name": "stdout"
        }
      ]
    },
    {
      "cell_type": "code",
      "metadata": {
        "id": "OzXJAEDIuwGi",
        "colab_type": "code",
        "colab": {
          "base_uri": "https://localhost:8080/",
          "height": 34
        },
        "outputId": "f066d3ac-5c43-4db0-ef50-812aef36ebcf"
      },
      "source": [
        "d1[\"name\"]"
      ],
      "execution_count": 11,
      "outputs": [
        {
          "output_type": "execute_result",
          "data": {
            "text/plain": [
              "'Gitam'"
            ]
          },
          "metadata": {
            "tags": []
          },
          "execution_count": 11
        }
      ]
    },
    {
      "cell_type": "code",
      "metadata": {
        "id": "lm1pCTT5vkf_",
        "colab_type": "code",
        "colab": {
          "base_uri": "https://localhost:8080/",
          "height": 34
        },
        "outputId": "2ca00841-676e-4156-c507-f9989fe1d672"
      },
      "source": [
        "d1 = { \"name\":\"Gitam\",\"email\":\"gitam@gmail.com\",\"address\":\"hyderabad\"}\n",
        "d1[\"email\"]='python@gmail.com'\n",
        "print (d1)"
      ],
      "execution_count": 15,
      "outputs": [
        {
          "output_type": "stream",
          "text": [
            "{'name': 'Gitam', 'email': 'python@gmail.com', 'address': 'hyderabad'}\n"
          ],
          "name": "stdout"
        }
      ]
    },
    {
      "cell_type": "code",
      "metadata": {
        "id": "RkbrG9kev2Ht",
        "colab_type": "code",
        "colab": {
          "base_uri": "https://localhost:8080/",
          "height": 34
        },
        "outputId": "a6d323a1-68c5-4c1e-e13b-051fa0593a7c"
      },
      "source": [
        "d1['course']= 'python'\n",
        "print(d1)"
      ],
      "execution_count": 16,
      "outputs": [
        {
          "output_type": "stream",
          "text": [
            "{'name': 'Gitam', 'email': 'python@gmail.com', 'address': 'hyderabad', 'course': 'python'}\n"
          ],
          "name": "stdout"
        }
      ]
    },
    {
      "cell_type": "code",
      "metadata": {
        "id": "-fM91C0kwFYw",
        "colab_type": "code",
        "colab": {
          "base_uri": "https://localhost:8080/",
          "height": 34
        },
        "outputId": "0b428798-282c-460c-b939-d9ff676fc302"
      },
      "source": [
        "# delete\n",
        "del d1['email']\n",
        "print(d1)"
      ],
      "execution_count": 17,
      "outputs": [
        {
          "output_type": "stream",
          "text": [
            "{'name': 'Gitam', 'address': 'hyderabad', 'course': 'python'}\n"
          ],
          "name": "stdout"
        }
      ]
    },
    {
      "cell_type": "code",
      "metadata": {
        "id": "lIFldJhkyqtW",
        "colab_type": "code",
        "colab": {
          "base_uri": "https://localhost:8080/",
          "height": 34
        },
        "outputId": "51d39ebc-639f-40a9-8bb3-6c52ca41ca97"
      },
      "source": [
        "d1.keys()\n"
      ],
      "execution_count": 23,
      "outputs": [
        {
          "output_type": "execute_result",
          "data": {
            "text/plain": [
              "dict_keys(['name', 'address', 'course'])"
            ]
          },
          "metadata": {
            "tags": []
          },
          "execution_count": 23
        }
      ]
    },
    {
      "cell_type": "code",
      "metadata": {
        "id": "6F4tGJnHy8-P",
        "colab_type": "code",
        "colab": {
          "base_uri": "https://localhost:8080/",
          "height": 34
        },
        "outputId": "0c36de19-c870-4983-94aa-cc03ac74c9ba"
      },
      "source": [
        "d1.values()"
      ],
      "execution_count": 24,
      "outputs": [
        {
          "output_type": "execute_result",
          "data": {
            "text/plain": [
              "dict_values(['Gitam', 'hyderabad', 'python'])"
            ]
          },
          "metadata": {
            "tags": []
          },
          "execution_count": 24
        }
      ]
    },
    {
      "cell_type": "code",
      "metadata": {
        "id": "KFWv_6M0zBq7",
        "colab_type": "code",
        "colab": {
          "base_uri": "https://localhost:8080/",
          "height": 34
        },
        "outputId": "8f59522b-8435-4209-9308-d24b058351ae"
      },
      "source": [
        "d1.items()"
      ],
      "execution_count": 25,
      "outputs": [
        {
          "output_type": "execute_result",
          "data": {
            "text/plain": [
              "dict_items([('name', 'Gitam'), ('address', 'hyderabad'), ('course', 'python')])"
            ]
          },
          "metadata": {
            "tags": []
          },
          "execution_count": 25
        }
      ]
    },
    {
      "cell_type": "markdown",
      "metadata": {
        "id": "Wn3rVAEDzdKo",
        "colab_type": "text"
      },
      "source": [
        "**strings:**\n"
      ]
    },
    {
      "cell_type": "code",
      "metadata": {
        "id": "wIZn5YirziRV",
        "colab_type": "code",
        "colab": {
          "base_uri": "https://localhost:8080/",
          "height": 34
        },
        "outputId": "243a3a5a-f2a8-488c-b7d5-beb5dad0bb9a"
      },
      "source": [
        "s1 ='python'\n",
        "print(s1)"
      ],
      "execution_count": 35,
      "outputs": [
        {
          "output_type": "stream",
          "text": [
            "python\n"
          ],
          "name": "stdout"
        }
      ]
    },
    {
      "cell_type": "code",
      "metadata": {
        "id": "kCG-CumSzxXE",
        "colab_type": "code",
        "colab": {
          "base_uri": "https://localhost:8080/",
          "height": 85
        },
        "outputId": "c1f2aa6c-57ec-45f9-9c08-6d6c8f9a08cb"
      },
      "source": [
        "s1 = 'python'\n",
        "print(s1[0])\n",
        "print(s1[5])\n",
        "print(s1[2:])\n",
        "print(s1[::-1])"
      ],
      "execution_count": 36,
      "outputs": [
        {
          "output_type": "stream",
          "text": [
            "p\n",
            "n\n",
            "thon\n",
            "nohtyp\n"
          ],
          "name": "stdout"
        }
      ]
    },
    {
      "cell_type": "code",
      "metadata": {
        "id": "EvywCJeo0568",
        "colab_type": "code",
        "colab": {
          "base_uri": "https://localhost:8080/",
          "height": 51
        },
        "outputId": "d284f50d-2539-42d3-bb30-20dc8c40fed4"
      },
      "source": [
        "s1 ='python'\n",
        "print(s1[len(s1)//2])\n",
        "print(s1[0:6:2])"
      ],
      "execution_count": 39,
      "outputs": [
        {
          "output_type": "stream",
          "text": [
            "h\n",
            "pto\n"
          ],
          "name": "stdout"
        }
      ]
    },
    {
      "cell_type": "code",
      "metadata": {
        "id": "-g0_Xl7w1M-v",
        "colab_type": "code",
        "colab": {
          "base_uri": "https://localhost:8080/",
          "height": 51
        },
        "outputId": "4811dd11-c414-4b27-e742-dca2f40f9b30"
      },
      "source": [
        "s1 ='python'\n",
        "print(s1[len(s1)//2])\n",
        "print(s1[0:6:3])"
      ],
      "execution_count": 40,
      "outputs": [
        {
          "output_type": "stream",
          "text": [
            "h\n",
            "ph\n"
          ],
          "name": "stdout"
        }
      ]
    },
    {
      "cell_type": "code",
      "metadata": {
        "id": "N9cEkRTW1myP",
        "colab_type": "code",
        "colab": {
          "base_uri": "https://localhost:8080/",
          "height": 51
        },
        "outputId": "bdc69684-61c5-416d-d3b9-d382d40dbcfc"
      },
      "source": [
        "# using function reverse of string\n",
        "\n",
        "def reverseofstring(str):\n",
        "  print(str[::-1])\n",
        "reverseofstring(\"programming\")\n",
        "print(str)\n"
      ],
      "execution_count": 45,
      "outputs": [
        {
          "output_type": "stream",
          "text": [
            "gnimmargorp\n",
            "<class 'str'>\n"
          ],
          "name": "stdout"
        }
      ]
    },
    {
      "cell_type": "code",
      "metadata": {
        "id": "PwmWf5bR2A-b",
        "colab_type": "code",
        "colab": {
          "base_uri": "https://localhost:8080/",
          "height": 51
        },
        "outputId": "4c9cf212-8136-4667-bec6-1991e5eaced9"
      },
      "source": [
        "# using function reverse of string\n",
        "def reverseofstring(str):\n",
        "  if str==str[::-1]:\n",
        "    return True\n",
        "  else:\n",
        "    return False\n",
        "print(reverseofstring(\"programming\"))\n",
        "print(reverseofstring(\"ganag\"))"
      ],
      "execution_count": 46,
      "outputs": [
        {
          "output_type": "stream",
          "text": [
            "False\n",
            "True\n"
          ],
          "name": "stdout"
        }
      ]
    },
    {
      "cell_type": "markdown",
      "metadata": {
        "id": "ylLd_g--6Crq",
        "colab_type": "text"
      },
      "source": [
        "**# String build-in-methods:**\n",
        "- upper()\n",
        "- lower()\n",
        "- islower()\n",
        "- isupper()\n",
        "- istitle()\n",
        "- isnumeric()\n",
        "- isalpha()\n",
        "- isspace()"
      ]
    },
    {
      "cell_type": "code",
      "metadata": {
        "id": "nUN-bhXf6fdY",
        "colab_type": "code",
        "colab": {
          "base_uri": "https://localhost:8080/",
          "height": 136
        },
        "outputId": "1058411f-2964-4ef9-a2cd-7ef33a183077"
      },
      "source": [
        "s1= 'python'\n",
        "print(s1.upper())\n",
        "print(s1.lower())\n",
        "print(s1.isupper())\n",
        "print(s1.islower())\n",
        "print(s1.istitle())\n",
        "print(s1.isnumeric())\n",
        "print(s1.isalpha())"
      ],
      "execution_count": 50,
      "outputs": [
        {
          "output_type": "stream",
          "text": [
            "PYTHON\n",
            "python\n",
            "False\n",
            "True\n",
            "False\n",
            "False\n",
            "True\n"
          ],
          "name": "stdout"
        }
      ]
    },
    {
      "cell_type": "code",
      "metadata": {
        "id": "TfzawFS2627Y",
        "colab_type": "code",
        "colab": {
          "base_uri": "https://localhost:8080/",
          "height": 34
        },
        "outputId": "a07466be-59d6-4ca2-9d92-537f5284b28f"
      },
      "source": [
        "s1 = 'Py th on'\n",
        "print(s1.isspace())"
      ],
      "execution_count": 51,
      "outputs": [
        {
          "output_type": "stream",
          "text": [
            "False\n"
          ],
          "name": "stdout"
        }
      ]
    },
    {
      "cell_type": "code",
      "metadata": {
        "id": "8PysE9Tj8DPe",
        "colab_type": "code",
        "colab": {
          "base_uri": "https://localhost:8080/",
          "height": 34
        },
        "outputId": "a4e5437c-4f65-4b4a-bb0c-cb7d572ded39"
      },
      "source": [
        "s1 = ' '\n",
        "print(s1.isspace())\n"
      ],
      "execution_count": 52,
      "outputs": [
        {
          "output_type": "stream",
          "text": [
            "True\n"
          ],
          "name": "stdout"
        }
      ]
    },
    {
      "cell_type": "markdown",
      "metadata": {
        "id": "BGb1nl8b98sN",
        "colab_type": "text"
      },
      "source": [
        "**String Methods**\n",
        "\n",
        "- join()\n",
        "- split()\n",
        "- replace()"
      ]
    },
    {
      "cell_type": "code",
      "metadata": {
        "id": "XTMqRcNx-LM_",
        "colab_type": "code",
        "colab": {
          "base_uri": "https://localhost:8080/",
          "height": 34
        },
        "outputId": "8cf3fe3b-d4e1-4727-cbf0-8a0ace56580f"
      },
      "source": [
        "s1= 'python'\n",
        "print(\" \".join(s1))"
      ],
      "execution_count": 53,
      "outputs": [
        {
          "output_type": "stream",
          "text": [
            "p y t h o n\n"
          ],
          "name": "stdout"
        }
      ]
    },
    {
      "cell_type": "code",
      "metadata": {
        "id": "dghKEboa-kCc",
        "colab_type": "code",
        "colab": {
          "base_uri": "https://localhost:8080/",
          "height": 34
        },
        "outputId": "306967f5-c1be-4850-f862-0fbc6e6cc140"
      },
      "source": [
        "s1= 'python'\n",
        "print(\"  7  \".join(s1))"
      ],
      "execution_count": 54,
      "outputs": [
        {
          "output_type": "stream",
          "text": [
            "p  7  y  7  t  7  h  7  o  7  n\n"
          ],
          "name": "stdout"
        }
      ]
    },
    {
      "cell_type": "code",
      "metadata": {
        "id": "YYy4tUrj-vek",
        "colab_type": "code",
        "colab": {
          "base_uri": "https://localhost:8080/",
          "height": 34
        },
        "outputId": "88bf167b-afe1-4058-8828-6a5f1cef2c7a"
      },
      "source": [
        "s1= \"python is easy to learn\"\n",
        "print(\" , \".join(s1))"
      ],
      "execution_count": 55,
      "outputs": [
        {
          "output_type": "stream",
          "text": [
            "p , y , t , h , o , n ,   , i , s ,   , e , a , s , y ,   , t , o ,   , l , e , a , r , n\n"
          ],
          "name": "stdout"
        }
      ]
    },
    {
      "cell_type": "code",
      "metadata": {
        "id": "8tL9RP7B_CzQ",
        "colab_type": "code",
        "colab": {
          "base_uri": "https://localhost:8080/",
          "height": 34
        },
        "outputId": "54a77eb6-cda8-4bde-9f16-7d27019f55fe"
      },
      "source": [
        "s1= \"python is easy to learn\"\n",
        "print(s1.split())"
      ],
      "execution_count": 56,
      "outputs": [
        {
          "output_type": "stream",
          "text": [
            "['python', 'is', 'easy', 'to', 'learn']\n"
          ],
          "name": "stdout"
        }
      ]
    },
    {
      "cell_type": "code",
      "metadata": {
        "id": "_A_hyeuF_QCJ",
        "colab_type": "code",
        "colab": {
          "base_uri": "https://localhost:8080/",
          "height": 34
        },
        "outputId": "01c14bd4-0dfc-4cda-a21b-09c3aaa4485d"
      },
      "source": [
        "s1= \"python is easy to learn\"\n",
        "print(s1.split('a')) "
      ],
      "execution_count": 57,
      "outputs": [
        {
          "output_type": "stream",
          "text": [
            "['python is e', 'sy to le', 'rn']\n"
          ],
          "name": "stdout"
        }
      ]
    },
    {
      "cell_type": "code",
      "metadata": {
        "id": "Y3QIsDIO_gql",
        "colab_type": "code",
        "colab": {
          "base_uri": "https://localhost:8080/",
          "height": 408
        },
        "outputId": "08e5be2b-acc9-4409-c3bd-1814ab5046ce"
      },
      "source": [
        "s1= \"python is easy to learn\"\n",
        "li = list(s1)\n",
        "li"
      ],
      "execution_count": 58,
      "outputs": [
        {
          "output_type": "execute_result",
          "data": {
            "text/plain": [
              "['p',\n",
              " 'y',\n",
              " 't',\n",
              " 'h',\n",
              " 'o',\n",
              " 'n',\n",
              " ' ',\n",
              " 'i',\n",
              " 's',\n",
              " ' ',\n",
              " 'e',\n",
              " 'a',\n",
              " 's',\n",
              " 'y',\n",
              " ' ',\n",
              " 't',\n",
              " 'o',\n",
              " ' ',\n",
              " 'l',\n",
              " 'e',\n",
              " 'a',\n",
              " 'r',\n",
              " 'n']"
            ]
          },
          "metadata": {
            "tags": []
          },
          "execution_count": 58
        }
      ]
    },
    {
      "cell_type": "code",
      "metadata": {
        "id": "6k0D3nUX_v4i",
        "colab_type": "code",
        "colab": {
          "base_uri": "https://localhost:8080/",
          "height": 34
        },
        "outputId": "e72d7165-fe8c-4b17-dffc-d4377fccda63"
      },
      "source": [
        "s1= \"python is easy to learn\"\n",
        "print(s1.replace(\"easy\",\"very easy\"))"
      ],
      "execution_count": 60,
      "outputs": [
        {
          "output_type": "stream",
          "text": [
            "python is very easy to learn\n"
          ],
          "name": "stdout"
        }
      ]
    },
    {
      "cell_type": "code",
      "metadata": {
        "id": "bVFbftnvAk2j",
        "colab_type": "code",
        "colab": {
          "base_uri": "https://localhost:8080/",
          "height": 34
        },
        "outputId": "281ef696-db26-4fd1-8124-56571b8f7de0"
      },
      "source": [
        "\n",
        "\n",
        "\n",
        "marks ={\"peter\" :[80,85,90],\"joe\":[86,90,95] }\n",
        "print(marks[\"peter\"])\n",
        "\n",
        "\n",
        "\n",
        "\n",
        "\n",
        "\n"
      ],
      "execution_count": 67,
      "outputs": [
        {
          "output_type": "stream",
          "text": [
            "[80, 85, 90]\n"
          ],
          "name": "stdout"
        }
      ]
    },
    {
      "cell_type": "code",
      "metadata": {
        "id": "IN_lnCBzCv7c",
        "colab_type": "code",
        "colab": {
          "base_uri": "https://localhost:8080/",
          "height": 34
        },
        "outputId": "df533cb8-0108-4b81-c687-58a5b32514aa"
      },
      "source": [
        "marks ={\"peter\" :[80,85,90],\"joe\":[86,90,95] }\n",
        "print(marks[\"peter\"][0])"
      ],
      "execution_count": 69,
      "outputs": [
        {
          "output_type": "stream",
          "text": [
            "80\n"
          ],
          "name": "stdout"
        }
      ]
    },
    {
      "cell_type": "code",
      "metadata": {
        "id": "QE_5y_pCEjg-",
        "colab_type": "code",
        "colab": {
          "base_uri": "https://localhost:8080/",
          "height": 34
        },
        "outputId": "6cbd21b9-e2dc-412e-8252-da00a038b1ab"
      },
      "source": [
        "print(marks[\"joe\"][0])"
      ],
      "execution_count": 70,
      "outputs": [
        {
          "output_type": "stream",
          "text": [
            "86\n"
          ],
          "name": "stdout"
        }
      ]
    },
    {
      "cell_type": "code",
      "metadata": {
        "id": "QY-wOio_EymV",
        "colab_type": "code",
        "colab": {
          "base_uri": "https://localhost:8080/",
          "height": 34
        },
        "outputId": "f3819987-ab6d-4061-8d6d-933570d588a0"
      },
      "source": [
        "print(marks[\"joe\"][::-1])"
      ],
      "execution_count": 71,
      "outputs": [
        {
          "output_type": "stream",
          "text": [
            "[95, 90, 86]\n"
          ],
          "name": "stdout"
        }
      ]
    },
    {
      "cell_type": "code",
      "metadata": {
        "id": "X0jjeYbuFBP5",
        "colab_type": "code",
        "colab": {
          "base_uri": "https://localhost:8080/",
          "height": 34
        },
        "outputId": "9415c0d9-568d-419d-dc33-c33f5c2cab20"
      },
      "source": [
        "marks = {\"peter\":{\"math\":1,\"english\":2},\"joe\":[86,90,95]}\n",
        "print(marks[\"peter\"][\"english\"])"
      ],
      "execution_count": 72,
      "outputs": [
        {
          "output_type": "stream",
          "text": [
            "2\n"
          ],
          "name": "stdout"
        }
      ]
    },
    {
      "cell_type": "code",
      "metadata": {
        "id": "Fuvg7nJAFyim",
        "colab_type": "code",
        "colab": {}
      },
      "source": [
        ""
      ],
      "execution_count": 0,
      "outputs": []
    }
  ]
}