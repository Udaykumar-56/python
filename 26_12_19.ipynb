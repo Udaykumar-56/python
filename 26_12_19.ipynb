{
  "nbformat": 4,
  "nbformat_minor": 0,
  "metadata": {
    "colab": {
      "name": "26-12-19.ipynb",
      "provenance": [],
      "collapsed_sections": [],
      "include_colab_link": true
    },
    "kernelspec": {
      "name": "python3",
      "display_name": "Python 3"
    }
  },
  "cells": [
    {
      "cell_type": "markdown",
      "metadata": {
        "id": "view-in-github",
        "colab_type": "text"
      },
      "source": [
        "<a href=\"https://colab.research.google.com/github/Udaykumar-56/python/blob/master/26_12_19.ipynb\" target=\"_parent\"><img src=\"https://colab.research.google.com/assets/colab-badge.svg\" alt=\"Open In Colab\"/></a>"
      ]
    },
    {
      "cell_type": "code",
      "metadata": {
        "id": "HX3rJ1-FZ-BJ",
        "colab_type": "code",
        "colab": {}
      },
      "source": [
        ""
      ],
      "execution_count": 0,
      "outputs": []
    },
    {
      "cell_type": "code",
      "metadata": {
        "id": "KhfftWfoaJB5",
        "colab_type": "code",
        "outputId": "92c98800-56b0-424f-b527-c0a7d61bc2c5",
        "colab": {
          "base_uri": "https://localhost:8080/",
          "height": 85
        }
      },
      "source": [
        "# find large number from given 3 numbers\n",
        "a= int(input(\"enter a number\"))\n",
        "b= int(input(\"enter a number\"))\n",
        "c= int(input(\"enter a number\"))\n",
        "if a>b and a>c:\n",
        "  print(a,\" is larger number\")\n",
        "elif b>a and b>c:\n",
        "     print(b,\"is larger number\")\n",
        "else:\n",
        "  print(c,\"is larger  number\")\n"
      ],
      "execution_count": 0,
      "outputs": [
        {
          "output_type": "stream",
          "text": [
            "enter a number7\n",
            "enter a number3\n",
            "enter a number1\n",
            "7  is larger number\n"
          ],
          "name": "stdout"
        }
      ]
    },
    {
      "cell_type": "markdown",
      "metadata": {
        "id": "RuYV4drCdCkK",
        "colab_type": "text"
      },
      "source": [
        "#while statements:\n",
        "### Syntax:\n",
        "##### while Boolean_condition:<br>\n",
        "    statements<br>\n",
        "    increment / decrement<br>\n"
      ]
    },
    {
      "cell_type": "code",
      "metadata": {
        "id": "nRqARRZCeqAh",
        "colab_type": "code",
        "colab": {}
      },
      "source": [
        ""
      ],
      "execution_count": 0,
      "outputs": []
    },
    {
      "cell_type": "code",
      "metadata": {
        "id": "V3rFQ_80eqDB",
        "colab_type": "code",
        "outputId": "73325786-5307-4c78-93b4-1f6cc5d3ae62",
        "colab": {
          "base_uri": "https://localhost:8080/",
          "height": 102
        }
      },
      "source": [
        "x=0\n",
        "while x<5:\n",
        "   print(\"gitam\")\n",
        "   x=x+1"
      ],
      "execution_count": 0,
      "outputs": [
        {
          "output_type": "stream",
          "text": [
            "gitam\n",
            "gitam\n",
            "gitam\n",
            "gitam\n",
            "gitam\n"
          ],
          "name": "stdout"
        }
      ]
    },
    {
      "cell_type": "markdown",
      "metadata": {
        "id": "As7cwGDwfsno",
        "colab_type": "text"
      },
      "source": [
        ""
      ]
    },
    {
      "cell_type": "code",
      "metadata": {
        "id": "0QSWQkNZfJdQ",
        "colab_type": "code",
        "outputId": "5bbf8dcf-0c9a-45cf-a844-e79588286b37",
        "colab": {
          "base_uri": "https://localhost:8080/",
          "height": 51
        }
      },
      "source": [
        "# print n natural number using wile loop\n",
        "#input:10\n",
        "#output : 1 2 3 4 5 6 7 8 9 10\n",
        "n = int(input(\"enter a number\"))\n",
        "i = 1\n",
        "while i<=n:\n",
        "    print(i,end= \" \")\n",
        "    i = i+1"
      ],
      "execution_count": 0,
      "outputs": [
        {
          "output_type": "stream",
          "text": [
            "enter a number10\n",
            "1 2 3 4 5 6 7 8 9 10 "
          ],
          "name": "stdout"
        }
      ]
    },
    {
      "cell_type": "code",
      "metadata": {
        "id": "lEyqkrMLiiyp",
        "colab_type": "code",
        "outputId": "131131d0-d657-4cbb-f36d-4b89f570a7bf",
        "colab": {
          "base_uri": "https://localhost:8080/",
          "height": 51
        }
      },
      "source": [
        "# add only even number 1 to n\n",
        "# input:10\n",
        "# output : 30(2+4+6+8+10)\n",
        "n=int(input(\"enter a number\"))\n",
        "i=1\n",
        "sum=0\n",
        "while i<=n:\n",
        "    if i %2 == 0:\n",
        "         sum=sum+i\n",
        "    i = i+1\n",
        "print(sum)\n"
      ],
      "execution_count": 0,
      "outputs": [
        {
          "output_type": "stream",
          "text": [
            "enter a number10\n",
            "30\n"
          ],
          "name": "stdout"
        }
      ]
    },
    {
      "cell_type": "code",
      "metadata": {
        "id": "xajGLYy8m4s7",
        "colab_type": "code",
        "colab": {}
      },
      "source": [
        ""
      ],
      "execution_count": 0,
      "outputs": []
    },
    {
      "cell_type": "code",
      "metadata": {
        "id": "38agFuEsm4vZ",
        "colab_type": "code",
        "outputId": "2f244fa9-3c19-4700-dce0-edcfb08cc6d8",
        "colab": {
          "base_uri": "https://localhost:8080/",
          "height": 51
        }
      },
      "source": [
        "# reverse\n",
        "n = int(input(\"enter a number\"))\n",
        "while n!=0:\n",
        "  r = n%10\n",
        "  print(r,end= \" \")\n",
        "  n =n//10"
      ],
      "execution_count": 0,
      "outputs": [
        {
          "output_type": "stream",
          "text": [
            "enter a number123\n",
            "3 2 1 "
          ],
          "name": "stdout"
        }
      ]
    },
    {
      "cell_type": "markdown",
      "metadata": {
        "id": "9qviFTaxn_n3",
        "colab_type": "text"
      },
      "source": [
        "# Functional Programming\n",
        " \n",
        "\n",
        "*   Simple\n",
        "*Easy read\n",
        "\n",
        "\n",
        "*   Lengthy program divides into sub program\n",
        "\n",
        "\n",
        "\n",
        "\n"
      ]
    },
    {
      "cell_type": "markdown",
      "metadata": {
        "id": "U9KtHZtXqdk4",
        "colab_type": "text"
      },
      "source": [
        "# Syntax\n",
        " def nameofthefunction(<parameters>):\n",
        "     statements\n",
        "     return\n",
        "     \n",
        "\n"
      ]
    },
    {
      "cell_type": "markdown",
      "metadata": {
        "id": "FJ8GKVMsqdjZ",
        "colab_type": "text"
      },
      "source": [
        ""
      ]
    },
    {
      "cell_type": "code",
      "metadata": {
        "id": "8AkRmHQ-rGtR",
        "colab_type": "code",
        "outputId": "060d3c8f-dd98-495b-b6c2-17832a15ec81",
        "colab": {
          "base_uri": "https://localhost:8080/",
          "height": 34
        }
      },
      "source": [
        "# input:1234\n",
        "# output:6 (2+4)\n",
        "def addevendigit(n):\n",
        "  sum =0\n",
        "  while n!= 0:\n",
        "    r = n%10\n",
        "    if r %2==0:\n",
        "      sum = sum+r\n",
        "    n = n//10\n",
        "  return sum\n",
        "addevendigit(1234)      "
      ],
      "execution_count": 0,
      "outputs": [
        {
          "output_type": "execute_result",
          "data": {
            "text/plain": [
              "6"
            ]
          },
          "metadata": {
            "tags": []
          },
          "execution_count": 20
        }
      ]
    },
    {
      "cell_type": "code",
      "metadata": {
        "id": "igkAqkihs5VJ",
        "colab_type": "code",
        "outputId": "d049b9c4-c814-441f-ed6d-a64060b29515",
        "colab": {
          "base_uri": "https://localhost:8080/",
          "height": 34
        }
      },
      "source": [
        "# input:19528\n",
        "# output:9\n",
        "def largestdigit(n):\n",
        "  largest=0\n",
        "  sum =0\n",
        "  while n> 0:\n",
        "    r = n%10\n",
        "    if r >largest:\n",
        "      largest =r\n",
        "    n = n//10\n",
        "  return largest\n",
        "largestdigit(19528)"
      ],
      "execution_count": 0,
      "outputs": [
        {
          "output_type": "execute_result",
          "data": {
            "text/plain": [
              "9"
            ]
          },
          "metadata": {
            "tags": []
          },
          "execution_count": 21
        }
      ]
    },
    {
      "cell_type": "code",
      "metadata": {
        "id": "GGQ020bN0s7c",
        "colab_type": "code",
        "outputId": "d7026ceb-7783-4c63-b0a0-ee5ddea79a62",
        "colab": {
          "base_uri": "https://localhost:8080/",
          "height": 51
        }
      },
      "source": [
        "#input:121 ---121---yes\n",
        "#      123 ---321---no\n",
        "\n",
        "\n",
        "def ispalindrome(n):\n",
        "    rev = 0\n",
        "    buffer = n\n",
        "    while n !=0:\n",
        "      r =n%10\n",
        "      rev =rev * 10 + r\n",
        "      n = n//10\n",
        "    if buffer == rev:\n",
        "      return \"yes\"\n",
        "    else: \n",
        "        return \"no\"\n",
        "print(ispalindrome(121))\n",
        "print(ispalindrome(123))\n"
      ],
      "execution_count": 0,
      "outputs": [
        {
          "output_type": "stream",
          "text": [
            "yes\n",
            "no\n"
          ],
          "name": "stdout"
        }
      ]
    },
    {
      "cell_type": "code",
      "metadata": {
        "id": "6buJrjYS2X-h",
        "colab_type": "code",
        "outputId": "92b4a96d-78d7-43a1-a9af-78da1127c954",
        "colab": {
          "base_uri": "https://localhost:8080/",
          "height": 34
        }
      },
      "source": [
        "#palindrome\n",
        "def palindrome(n):\n",
        "     pal =0\n",
        "     while(n>0):\n",
        "      r=n %10\n",
        "      pal =pal *10 + r\n",
        "      n = n//10\n",
        "     return pal\n",
        "palindrome (7321) "
      ],
      "execution_count": 0,
      "outputs": [
        {
          "output_type": "execute_result",
          "data": {
            "text/plain": [
              "1237"
            ]
          },
          "metadata": {
            "tags": []
          },
          "execution_count": 36
        }
      ]
    },
    {
      "cell_type": "code",
      "metadata": {
        "id": "yw1EnS3Q3c3i",
        "colab_type": "code",
        "outputId": "dbea7aa8-a0cc-47d9-b38b-a7876dae7557",
        "colab": {
          "base_uri": "https://localhost:8080/",
          "height": 34
        }
      },
      "source": [
        "#function to print n natural number\n",
        "def natural(l,b):\n",
        "  for i in range (l,b+1):\n",
        "    print(i,end=\" \")\n",
        "natural(10,17)"
      ],
      "execution_count": 0,
      "outputs": [
        {
          "output_type": "stream",
          "text": [
            "10 11 12 13 14 15 16 17 "
          ],
          "name": "stdout"
        }
      ]
    },
    {
      "cell_type": "code",
      "metadata": {
        "id": "WtAOys8i5ln5",
        "colab_type": "code",
        "outputId": "6c7f3c9b-48d5-4ee1-8e30-e630531f5687",
        "colab": {
          "base_uri": "https://localhost:8080/",
          "height": 34
        }
      },
      "source": [
        "def natural(l,b):\n",
        "  for i in range (l,b+1,3):\n",
        "    print(i,end=\" \")\n",
        "natural(1,10)\n",
        "#output:1"
      ],
      "execution_count": 0,
      "outputs": [
        {
          "output_type": "stream",
          "text": [
            "1 4 7 10 "
          ],
          "name": "stdout"
        }
      ]
    },
    {
      "cell_type": "code",
      "metadata": {
        "id": "m1cG2ayT5lmq",
        "colab_type": "code",
        "outputId": "ac7df436-291c-43bd-b47d-52a5929676f1",
        "colab": {
          "base_uri": "https://localhost:8080/",
          "height": 34
        }
      },
      "source": [
        "def natural(l,b):\n",
        "  for i in range (l,b+1,5):\n",
        "    print(i,end=\" \")\n",
        "natural(1,20)"
      ],
      "execution_count": 0,
      "outputs": [
        {
          "output_type": "stream",
          "text": [
            "1 6 11 16 "
          ],
          "name": "stdout"
        }
      ]
    },
    {
      "cell_type": "code",
      "metadata": {
        "id": "cfVhe4Wn2X70",
        "colab_type": "code",
        "outputId": "c7a9062d-5d5a-421f-a02f-8aa81dfeda85",
        "colab": {
          "base_uri": "https://localhost:8080/",
          "height": 34
        }
      },
      "source": [
        "#using function\n",
        "# input :1,10\n",
        "\n",
        "\n",
        "def  reverserange(b,I):\n",
        "  for i in range(I,b-1,-1):\n",
        "    print(i,end=\"  \")\n",
        "\n",
        "\n",
        "reverserange(1,10) \n",
        "#output : 10 9 8 ......1   "
      ],
      "execution_count": 0,
      "outputs": [
        {
          "output_type": "stream",
          "text": [
            "10  9  8  7  6  5  4  3  2  1  "
          ],
          "name": "stdout"
        }
      ]
    },
    {
      "cell_type": "markdown",
      "metadata": {
        "id": "FO1BuVLl8zGY",
        "colab_type": "text"
      },
      "source": [
        "# Data structures types:\n",
        "\n",
        "\n",
        "*   List \n",
        "*   tuple\n",
        "*   dictionary\n",
        "\n",
        "\n",
        "# list:\n",
        "-its one common data structure in python,the items are separated by comma and enclosed by []\n",
        "- crud operations\n",
        "* c - create\n",
        "* r - read\n",
        "* u - update\n",
        "* d - delete\n",
        "* list can be changed or immutable\n",
        "  \n",
        "   **example:**\n",
        "   * list=[1,2,3,4]\n"
      ]
    },
    {
      "cell_type": "code",
      "metadata": {
        "id": "wR69gXIFAnNm",
        "colab_type": "code",
        "outputId": "853b6589-c84d-4d65-85ed-44552823af76",
        "colab": {
          "base_uri": "https://localhost:8080/",
          "height": 51
        }
      },
      "source": [
        "li = [1,2,3,4,5]\n",
        "print(li)\n",
        "print(li[0])\n"
      ],
      "execution_count": 0,
      "outputs": [
        {
          "output_type": "stream",
          "text": [
            "[1, 2, 3, 4, 5]\n",
            "1\n"
          ],
          "name": "stdout"
        }
      ]
    },
    {
      "cell_type": "markdown",
      "metadata": {
        "id": "oCt3-So_8zDW",
        "colab_type": "text"
      },
      "source": [
        ""
      ]
    }
  ]
}