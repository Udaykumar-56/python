{
  "nbformat": 4,
  "nbformat_minor": 0,
  "metadata": {
    "colab": {
      "name": "28/12/19.ipynb",
      "provenance": [],
      "collapsed_sections": [],
      "include_colab_link": true
    },
    "kernelspec": {
      "name": "python3",
      "display_name": "Python 3"
    }
  },
  "cells": [
    {
      "cell_type": "markdown",
      "metadata": {
        "id": "view-in-github",
        "colab_type": "text"
      },
      "source": [
        "<a href=\"https://colab.research.google.com/github/Udaykumar-56/python/blob/master/28_12_19.ipynb\" target=\"_parent\"><img src=\"https://colab.research.google.com/assets/colab-badge.svg\" alt=\"Open In Colab\"/></a>"
      ]
    },
    {
      "cell_type": "code",
      "metadata": {
        "id": "qNOfNM9dnayd",
        "colab_type": "code",
        "colab": {
          "base_uri": "https://localhost:8080/",
          "height": 68
        },
        "outputId": "99284512-c866-4754-aab1-b47d9078d522"
      },
      "source": [
        "str=\"pynative\"\n",
        "print(str.split())\n",
        "li=list(str)\n",
        "print(li)\n",
        "print(li[::2])"
      ],
      "execution_count": 3,
      "outputs": [
        {
          "output_type": "stream",
          "text": [
            "['pynative']\n",
            "['p', 'y', 'n', 'a', 't', 'i', 'v', 'e']\n",
            "['p', 'n', 't', 'v']\n"
          ],
          "name": "stdout"
        }
      ]
    },
    {
      "cell_type": "code",
      "metadata": {
        "id": "mID2n513pQVn",
        "colab_type": "code",
        "colab": {
          "base_uri": "https://localhost:8080/",
          "height": 51
        },
        "outputId": "ae684cbe-fbfc-4516-d520-26ac443b4eeb"
      },
      "source": [
        "li=[1,2,3,4,5,6,7,1]\n",
        "print(li[::-1])\n",
        "if li[0]==li[-1]:\n",
        "  print(\"True\")\n",
        "else:\n",
        "  print(\"False\")"
      ],
      "execution_count": 4,
      "outputs": [
        {
          "output_type": "stream",
          "text": [
            "[1, 7, 6, 5, 4, 3, 2, 1]\n",
            "True\n"
          ],
          "name": "stdout"
        }
      ]
    },
    {
      "cell_type": "code",
      "metadata": {
        "id": "W3fiA1baqflZ",
        "colab_type": "code",
        "colab": {
          "base_uri": "https://localhost:8080/",
          "height": 102
        },
        "outputId": "36416ada-121d-4f72-e6c4-09e57070bc97"
      },
      "source": [
        "i=1\n",
        "n=5\n",
        "for i in range(1,6):\n",
        "  for j in range(0,i):\n",
        "    print(i,end=\" \")\n",
        "  print(\"\\r\")"
      ],
      "execution_count": 6,
      "outputs": [
        {
          "output_type": "stream",
          "text": [
            "1 \r\n",
            "2 2 \r\n",
            "3 3 3 \r\n",
            "4 4 4 4 \r\n",
            "5 5 5 5 5 \r\n"
          ],
          "name": "stdout"
        }
      ]
    },
    {
      "cell_type": "code",
      "metadata": {
        "id": "zskhS722r0og",
        "colab_type": "code",
        "colab": {
          "base_uri": "https://localhost:8080/",
          "height": 68
        },
        "outputId": "f5dc16f5-f1dc-4731-8dec-115e0fac934e"
      },
      "source": [
        "name=int(input(\"enter your name\"))\n",
        "age=int(input(\"enter your age\"))\n",
        "age=name-age\n",
        "age=age+100\n",
        "print(name,\"will be 100 years old in the \",age)"
      ],
      "execution_count": 8,
      "outputs": [
        {
          "output_type": "stream",
          "text": [
            "enter your name2014\n",
            "enter your age25\n",
            "2014 will be 100 years old in the  2089\n"
          ],
          "name": "stdout"
        }
      ]
    },
    {
      "cell_type": "code",
      "metadata": {
        "id": "0wui76I0uk6B",
        "colab_type": "code",
        "colab": {}
      },
      "source": [
        ""
      ],
      "execution_count": 0,
      "outputs": []
    }
  ]
}